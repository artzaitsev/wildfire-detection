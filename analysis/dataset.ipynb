{
 "cells": [
  {
   "cell_type": "code",
   "execution_count": 2,
   "metadata": {},
   "outputs": [],
   "source": [
    "import requests\n",
    "import pandas as pd"
   ]
  },
  {
   "cell_type": "code",
   "execution_count": 18,
   "metadata": {},
   "outputs": [],
   "source": [
    "df = pd.read_csv('data/thermopoints.csv', sep= ';')"
   ]
  },
  {
   "cell_type": "code",
   "execution_count": 19,
   "metadata": {},
   "outputs": [
    {
     "data": {
      "text/plain": [
       "type_name\n",
       "Лесной пожар            306553\n",
       "Неконтролируемый пал    154483\n",
       "Контролируемый пал      101719\n",
       "Природный пожар          97037\n",
       "Торфяной пожар             462\n",
       "Name: count, dtype: int64"
      ]
     },
     "execution_count": 19,
     "metadata": {},
     "output_type": "execute_result"
    }
   ],
   "source": [
    "df['type_name'].value_counts()"
   ]
  },
  {
   "cell_type": "code",
   "execution_count": 20,
   "metadata": {},
   "outputs": [
    {
     "data": {
      "text/html": [
       "<div>\n",
       "<style scoped>\n",
       "    .dataframe tbody tr th:only-of-type {\n",
       "        vertical-align: middle;\n",
       "    }\n",
       "\n",
       "    .dataframe tbody tr th {\n",
       "        vertical-align: top;\n",
       "    }\n",
       "\n",
       "    .dataframe thead th {\n",
       "        text-align: right;\n",
       "    }\n",
       "</style>\n",
       "<table border=\"1\" class=\"dataframe\">\n",
       "  <thead>\n",
       "    <tr style=\"text-align: right;\">\n",
       "      <th></th>\n",
       "      <th>dt</th>\n",
       "      <th>type_name</th>\n",
       "      <th>type_id</th>\n",
       "      <th>lon</th>\n",
       "      <th>lat</th>\n",
       "    </tr>\n",
       "  </thead>\n",
       "  <tbody>\n",
       "    <tr>\n",
       "      <th>0</th>\n",
       "      <td>2012-03-13</td>\n",
       "      <td>Природный пожар</td>\n",
       "      <td>4</td>\n",
       "      <td>131.5866</td>\n",
       "      <td>47.8662</td>\n",
       "    </tr>\n",
       "    <tr>\n",
       "      <th>1</th>\n",
       "      <td>2012-03-13</td>\n",
       "      <td>Природный пожар</td>\n",
       "      <td>4</td>\n",
       "      <td>131.5885</td>\n",
       "      <td>47.8809</td>\n",
       "    </tr>\n",
       "    <tr>\n",
       "      <th>2</th>\n",
       "      <td>2012-03-13</td>\n",
       "      <td>Лесной пожар</td>\n",
       "      <td>3</td>\n",
       "      <td>131.9871</td>\n",
       "      <td>48.4973</td>\n",
       "    </tr>\n",
       "    <tr>\n",
       "      <th>3</th>\n",
       "      <td>2012-03-13</td>\n",
       "      <td>Природный пожар</td>\n",
       "      <td>4</td>\n",
       "      <td>131.9031</td>\n",
       "      <td>43.6277</td>\n",
       "    </tr>\n",
       "    <tr>\n",
       "      <th>4</th>\n",
       "      <td>2012-03-13</td>\n",
       "      <td>Природный пожар</td>\n",
       "      <td>4</td>\n",
       "      <td>131.5706</td>\n",
       "      <td>47.8581</td>\n",
       "    </tr>\n",
       "    <tr>\n",
       "      <th>...</th>\n",
       "      <td>...</td>\n",
       "      <td>...</td>\n",
       "      <td>...</td>\n",
       "      <td>...</td>\n",
       "      <td>...</td>\n",
       "    </tr>\n",
       "    <tr>\n",
       "      <th>660249</th>\n",
       "      <td>2021-09-10</td>\n",
       "      <td>Лесной пожар</td>\n",
       "      <td>3</td>\n",
       "      <td>118.5451</td>\n",
       "      <td>64.7475</td>\n",
       "    </tr>\n",
       "    <tr>\n",
       "      <th>660250</th>\n",
       "      <td>2021-09-10</td>\n",
       "      <td>Лесной пожар</td>\n",
       "      <td>3</td>\n",
       "      <td>118.3046</td>\n",
       "      <td>64.7629</td>\n",
       "    </tr>\n",
       "    <tr>\n",
       "      <th>660251</th>\n",
       "      <td>2021-09-10</td>\n",
       "      <td>Лесной пожар</td>\n",
       "      <td>3</td>\n",
       "      <td>117.9681</td>\n",
       "      <td>65.7394</td>\n",
       "    </tr>\n",
       "    <tr>\n",
       "      <th>660252</th>\n",
       "      <td>2021-09-10</td>\n",
       "      <td>Лесной пожар</td>\n",
       "      <td>3</td>\n",
       "      <td>119.0462</td>\n",
       "      <td>64.7541</td>\n",
       "    </tr>\n",
       "    <tr>\n",
       "      <th>660253</th>\n",
       "      <td>2021-09-10</td>\n",
       "      <td>Лесной пожар</td>\n",
       "      <td>3</td>\n",
       "      <td>114.6958</td>\n",
       "      <td>64.5745</td>\n",
       "    </tr>\n",
       "  </tbody>\n",
       "</table>\n",
       "<p>404052 rows × 5 columns</p>\n",
       "</div>"
      ],
      "text/plain": [
       "                dt        type_name  type_id       lon      lat\n",
       "0       2012-03-13  Природный пожар        4  131.5866  47.8662\n",
       "1       2012-03-13  Природный пожар        4  131.5885  47.8809\n",
       "2       2012-03-13     Лесной пожар        3  131.9871  48.4973\n",
       "3       2012-03-13  Природный пожар        4  131.9031  43.6277\n",
       "4       2012-03-13  Природный пожар        4  131.5706  47.8581\n",
       "...            ...              ...      ...       ...      ...\n",
       "660249  2021-09-10     Лесной пожар        3  118.5451  64.7475\n",
       "660250  2021-09-10     Лесной пожар        3  118.3046  64.7629\n",
       "660251  2021-09-10     Лесной пожар        3  117.9681  65.7394\n",
       "660252  2021-09-10     Лесной пожар        3  119.0462  64.7541\n",
       "660253  2021-09-10     Лесной пожар        3  114.6958  64.5745\n",
       "\n",
       "[404052 rows x 5 columns]"
      ]
     },
     "execution_count": 20,
     "metadata": {},
     "output_type": "execute_result"
    }
   ],
   "source": [
    "type_names = ['Лесной пожар', 'Природный пожар', 'Торфяной пожар']\n",
    "df = df[df['type_name'].isin(type_names)]\n",
    "df"
   ]
  },
  {
   "cell_type": "code",
   "execution_count": 25,
   "metadata": {},
   "outputs": [
    {
     "name": "stderr",
     "output_type": "stream",
     "text": [
      "C:\\Users\\user\\AppData\\Local\\Temp\\ipykernel_2920\\2408418744.py:1: DtypeWarning: Columns (21,22) have mixed types. Specify dtype option on import or set low_memory=False.\n",
      "  data = pd.read_csv('data/data_fires_128_form_1T_v20240912.csv', sep= ';')\n"
     ]
    },
    {
     "data": {
      "text/plain": [
       "Index(['region', 'oktmo', 'okato', 'year', 'type', 'code', 'latitude',\n",
       "       'longitude', 'zone_beginning', 'landmark_settlement',\n",
       "       'landmark_azimuth', 'landmark_distance', 'forestry', 'date_beginning',\n",
       "       'area_beginning', 'date_end', 'current_state', 'area_total',\n",
       "       'area_forest', 'area_fund_total', 'area_fund_forest', 'comment',\n",
       "       'zone'],\n",
       "      dtype='object')"
      ]
     },
     "execution_count": 25,
     "metadata": {},
     "output_type": "execute_result"
    }
   ],
   "source": [
    "data = pd.read_csv('data/data_fires_128_form_1T_v20240912.csv', sep= ';')\n",
    "data.columns"
   ]
  },
  {
   "cell_type": "code",
   "execution_count": 33,
   "metadata": {},
   "outputs": [
    {
     "data": {
      "text/plain": [
       "0                Белгородское\n",
       "1                  Чернянское\n",
       "2                   Ивнянское\n",
       "3                 Шебекинское\n",
       "4               Горшенченское\n",
       "                  ...        \n",
       "1459459           Ассиновское\n",
       "1459460           Грозненское\n",
       "1459461          Гудермесское\n",
       "1459462             Шалинское\n",
       "1459463    Ачхой-Мартановское\n",
       "Name: forestry, Length: 1459464, dtype: object"
      ]
     },
     "execution_count": 33,
     "metadata": {},
     "output_type": "execute_result"
    }
   ],
   "source": [
    "data['forestry']"
   ]
  },
  {
   "cell_type": "code",
   "execution_count": null,
   "metadata": {},
   "outputs": [],
   "source": []
  }
 ],
 "metadata": {
  "kernelspec": {
   "display_name": "Python 3",
   "language": "python",
   "name": "python3"
  },
  "language_info": {
   "codemirror_mode": {
    "name": "ipython",
    "version": 3
   },
   "file_extension": ".py",
   "mimetype": "text/x-python",
   "name": "python",
   "nbconvert_exporter": "python",
   "pygments_lexer": "ipython3",
   "version": "3.12.2"
  }
 },
 "nbformat": 4,
 "nbformat_minor": 2
}
