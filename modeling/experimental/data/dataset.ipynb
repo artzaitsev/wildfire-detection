{
 "cells": [
  {
   "cell_type": "code",
   "execution_count": 76,
   "metadata": {},
   "outputs": [],
   "source": [
    "import requests\n",
    "import pandas as pd\n",
    "from datetime import datetime, timedelta\n",
    "from pprint import pprint\n",
    "import time\n",
    "import matplotlib.pyplot as plt\n",
    "import seaborn as sns\n",
    "import numpy as np"
   ]
  },
  {
   "cell_type": "markdown",
   "metadata": {},
   "source": [
    "Пожары в России за 2012-2021 гг. https://data.rcsi.science/data-catalog/datasets/202/#dataset-overview"
   ]
  },
  {
   "cell_type": "code",
   "execution_count": 3,
   "metadata": {},
   "outputs": [
    {
     "data": {
      "text/html": [
       "<div>\n",
       "<style scoped>\n",
       "    .dataframe tbody tr th:only-of-type {\n",
       "        vertical-align: middle;\n",
       "    }\n",
       "\n",
       "    .dataframe tbody tr th {\n",
       "        vertical-align: top;\n",
       "    }\n",
       "\n",
       "    .dataframe thead th {\n",
       "        text-align: right;\n",
       "    }\n",
       "</style>\n",
       "<table border=\"1\" class=\"dataframe\">\n",
       "  <thead>\n",
       "    <tr style=\"text-align: right;\">\n",
       "      <th></th>\n",
       "      <th>dt</th>\n",
       "      <th>type_name</th>\n",
       "      <th>type_id</th>\n",
       "      <th>lon</th>\n",
       "      <th>lat</th>\n",
       "    </tr>\n",
       "  </thead>\n",
       "  <tbody>\n",
       "    <tr>\n",
       "      <th>0</th>\n",
       "      <td>2012-03-13</td>\n",
       "      <td>Природный пожар</td>\n",
       "      <td>4</td>\n",
       "      <td>131.5866</td>\n",
       "      <td>47.8662</td>\n",
       "    </tr>\n",
       "    <tr>\n",
       "      <th>1</th>\n",
       "      <td>2012-03-13</td>\n",
       "      <td>Природный пожар</td>\n",
       "      <td>4</td>\n",
       "      <td>131.5885</td>\n",
       "      <td>47.8809</td>\n",
       "    </tr>\n",
       "    <tr>\n",
       "      <th>2</th>\n",
       "      <td>2012-03-13</td>\n",
       "      <td>Лесной пожар</td>\n",
       "      <td>3</td>\n",
       "      <td>131.9871</td>\n",
       "      <td>48.4973</td>\n",
       "    </tr>\n",
       "    <tr>\n",
       "      <th>3</th>\n",
       "      <td>2012-03-13</td>\n",
       "      <td>Природный пожар</td>\n",
       "      <td>4</td>\n",
       "      <td>131.9031</td>\n",
       "      <td>43.6277</td>\n",
       "    </tr>\n",
       "    <tr>\n",
       "      <th>4</th>\n",
       "      <td>2012-03-13</td>\n",
       "      <td>Природный пожар</td>\n",
       "      <td>4</td>\n",
       "      <td>131.5706</td>\n",
       "      <td>47.8581</td>\n",
       "    </tr>\n",
       "    <tr>\n",
       "      <th>...</th>\n",
       "      <td>...</td>\n",
       "      <td>...</td>\n",
       "      <td>...</td>\n",
       "      <td>...</td>\n",
       "      <td>...</td>\n",
       "    </tr>\n",
       "    <tr>\n",
       "      <th>660249</th>\n",
       "      <td>2021-09-10</td>\n",
       "      <td>Лесной пожар</td>\n",
       "      <td>3</td>\n",
       "      <td>118.5451</td>\n",
       "      <td>64.7475</td>\n",
       "    </tr>\n",
       "    <tr>\n",
       "      <th>660250</th>\n",
       "      <td>2021-09-10</td>\n",
       "      <td>Лесной пожар</td>\n",
       "      <td>3</td>\n",
       "      <td>118.3046</td>\n",
       "      <td>64.7629</td>\n",
       "    </tr>\n",
       "    <tr>\n",
       "      <th>660251</th>\n",
       "      <td>2021-09-10</td>\n",
       "      <td>Лесной пожар</td>\n",
       "      <td>3</td>\n",
       "      <td>117.9681</td>\n",
       "      <td>65.7394</td>\n",
       "    </tr>\n",
       "    <tr>\n",
       "      <th>660252</th>\n",
       "      <td>2021-09-10</td>\n",
       "      <td>Лесной пожар</td>\n",
       "      <td>3</td>\n",
       "      <td>119.0462</td>\n",
       "      <td>64.7541</td>\n",
       "    </tr>\n",
       "    <tr>\n",
       "      <th>660253</th>\n",
       "      <td>2021-09-10</td>\n",
       "      <td>Лесной пожар</td>\n",
       "      <td>3</td>\n",
       "      <td>114.6958</td>\n",
       "      <td>64.5745</td>\n",
       "    </tr>\n",
       "  </tbody>\n",
       "</table>\n",
       "<p>660254 rows × 5 columns</p>\n",
       "</div>"
      ],
      "text/plain": [
       "                dt        type_name  type_id       lon      lat\n",
       "0       2012-03-13  Природный пожар        4  131.5866  47.8662\n",
       "1       2012-03-13  Природный пожар        4  131.5885  47.8809\n",
       "2       2012-03-13     Лесной пожар        3  131.9871  48.4973\n",
       "3       2012-03-13  Природный пожар        4  131.9031  43.6277\n",
       "4       2012-03-13  Природный пожар        4  131.5706  47.8581\n",
       "...            ...              ...      ...       ...      ...\n",
       "660249  2021-09-10     Лесной пожар        3  118.5451  64.7475\n",
       "660250  2021-09-10     Лесной пожар        3  118.3046  64.7629\n",
       "660251  2021-09-10     Лесной пожар        3  117.9681  65.7394\n",
       "660252  2021-09-10     Лесной пожар        3  119.0462  64.7541\n",
       "660253  2021-09-10     Лесной пожар        3  114.6958  64.5745\n",
       "\n",
       "[660254 rows x 5 columns]"
      ]
     },
     "execution_count": 3,
     "metadata": {},
     "output_type": "execute_result"
    }
   ],
   "source": [
    "forrest_fire = pd.read_csv('thermopoints.csv', sep=';')\n",
    "forrest_fire"
   ]
  },
  {
   "cell_type": "markdown",
   "metadata": {},
   "source": [
    "Будем рассматривать лесные пожары летом и в сентябре."
   ]
  },
  {
   "cell_type": "code",
   "execution_count": 4,
   "metadata": {},
   "outputs": [
    {
     "data": {
      "text/html": [
       "<div>\n",
       "<style scoped>\n",
       "    .dataframe tbody tr th:only-of-type {\n",
       "        vertical-align: middle;\n",
       "    }\n",
       "\n",
       "    .dataframe tbody tr th {\n",
       "        vertical-align: top;\n",
       "    }\n",
       "\n",
       "    .dataframe thead th {\n",
       "        text-align: right;\n",
       "    }\n",
       "</style>\n",
       "<table border=\"1\" class=\"dataframe\">\n",
       "  <thead>\n",
       "    <tr style=\"text-align: right;\">\n",
       "      <th></th>\n",
       "      <th>dt</th>\n",
       "      <th>lon</th>\n",
       "      <th>lat</th>\n",
       "      <th>month</th>\n",
       "    </tr>\n",
       "  </thead>\n",
       "  <tbody>\n",
       "    <tr>\n",
       "      <th>1897</th>\n",
       "      <td>2012-06-01</td>\n",
       "      <td>66.3320</td>\n",
       "      <td>63.7988</td>\n",
       "      <td>6</td>\n",
       "    </tr>\n",
       "    <tr>\n",
       "      <th>1972</th>\n",
       "      <td>2012-06-02</td>\n",
       "      <td>136.7256</td>\n",
       "      <td>60.7618</td>\n",
       "      <td>6</td>\n",
       "    </tr>\n",
       "    <tr>\n",
       "      <th>2248</th>\n",
       "      <td>2012-06-03</td>\n",
       "      <td>124.1010</td>\n",
       "      <td>53.6320</td>\n",
       "      <td>6</td>\n",
       "    </tr>\n",
       "    <tr>\n",
       "      <th>2362</th>\n",
       "      <td>2012-06-04</td>\n",
       "      <td>140.1607</td>\n",
       "      <td>60.6553</td>\n",
       "      <td>6</td>\n",
       "    </tr>\n",
       "    <tr>\n",
       "      <th>2727</th>\n",
       "      <td>2012-06-05</td>\n",
       "      <td>140.2069</td>\n",
       "      <td>58.9203</td>\n",
       "      <td>6</td>\n",
       "    </tr>\n",
       "    <tr>\n",
       "      <th>...</th>\n",
       "      <td>...</td>\n",
       "      <td>...</td>\n",
       "      <td>...</td>\n",
       "      <td>...</td>\n",
       "    </tr>\n",
       "    <tr>\n",
       "      <th>658692</th>\n",
       "      <td>2021-09-06</td>\n",
       "      <td>121.0165</td>\n",
       "      <td>66.7575</td>\n",
       "      <td>9</td>\n",
       "    </tr>\n",
       "    <tr>\n",
       "      <th>659052</th>\n",
       "      <td>2021-09-07</td>\n",
       "      <td>118.8730</td>\n",
       "      <td>64.7312</td>\n",
       "      <td>9</td>\n",
       "    </tr>\n",
       "    <tr>\n",
       "      <th>659334</th>\n",
       "      <td>2021-09-08</td>\n",
       "      <td>141.4489</td>\n",
       "      <td>62.9088</td>\n",
       "      <td>9</td>\n",
       "    </tr>\n",
       "    <tr>\n",
       "      <th>659674</th>\n",
       "      <td>2021-09-09</td>\n",
       "      <td>122.8659</td>\n",
       "      <td>66.6548</td>\n",
       "      <td>9</td>\n",
       "    </tr>\n",
       "    <tr>\n",
       "      <th>660041</th>\n",
       "      <td>2021-09-10</td>\n",
       "      <td>136.0745</td>\n",
       "      <td>61.9061</td>\n",
       "      <td>9</td>\n",
       "    </tr>\n",
       "  </tbody>\n",
       "</table>\n",
       "<p>1055 rows × 4 columns</p>\n",
       "</div>"
      ],
      "text/plain": [
       "               dt       lon      lat  month\n",
       "1897   2012-06-01   66.3320  63.7988      6\n",
       "1972   2012-06-02  136.7256  60.7618      6\n",
       "2248   2012-06-03  124.1010  53.6320      6\n",
       "2362   2012-06-04  140.1607  60.6553      6\n",
       "2727   2012-06-05  140.2069  58.9203      6\n",
       "...           ...       ...      ...    ...\n",
       "658692 2021-09-06  121.0165  66.7575      9\n",
       "659052 2021-09-07  118.8730  64.7312      9\n",
       "659334 2021-09-08  141.4489  62.9088      9\n",
       "659674 2021-09-09  122.8659  66.6548      9\n",
       "660041 2021-09-10  136.0745  61.9061      9\n",
       "\n",
       "[1055 rows x 4 columns]"
      ]
     },
     "execution_count": 4,
     "metadata": {},
     "output_type": "execute_result"
    }
   ],
   "source": [
    "forrest_fire = forrest_fire[forrest_fire['type_name'] == 'Лесной пожар' ]\n",
    "forrest_fire = forrest_fire.drop_duplicates(subset=['dt'])\n",
    "forrest_fire = forrest_fire[['dt', 'lon', 'lat']]\n",
    "forrest_fire['dt'] = pd.to_datetime(forrest_fire['dt'])\n",
    "forrest_fire['month'] = forrest_fire['dt'].dt.month\n",
    "forrest_fire = forrest_fire[(forrest_fire['month'] < 10) & (forrest_fire['month'] > 5)]\n",
    "forrest_fire"
   ]
  },
  {
   "cell_type": "markdown",
   "metadata": {},
   "source": [
    "Получение погодных данных с помощью api запросов в день пожаров и за 2 дня до него. https://www.visualcrossing.com/"
   ]
  },
  {
   "cell_type": "code",
   "execution_count": 17,
   "metadata": {},
   "outputs": [],
   "source": [
    "API_KEY = 'JGB3E6K8CNPVWWLSFBF5XKFNL'\n",
    "#API_KEY = '7TM5XPHE3AMUHWQ3XPVHXL4EL'\n",
    "#API_KEY = 'VQ959KJETGEP22HECX5R3CPQQ' \n",
    "#API_KEY = 'MS77XFUHC76YM9C9UUG5KF72W'\n",
    "def fetch_weather(row):\n",
    "    dt, lon, lat = row['dt'], row['lon'], row['lat']\n",
    "    \n",
    "    dates = [(dt - timedelta(days=i)).strftime(\"%Y-%m-%d\") for i in range(2, -1, -1)]\n",
    "    \n",
    "    url = f\"https://weather.visualcrossing.com/VisualCrossingWebServices/rest/services/timeline/{lat},{lon}/{dates[0]}/{dates[-1]}\"\n",
    "    params = {\n",
    "        \"key\": API_KEY,\n",
    "        \"include\": \"days\",\n",
    "        \"elements\": \"datetime,tempmax,humidity,windspeed,precip\"\n",
    "    }\n",
    "\n",
    "    response = requests.get(url, params=params)\n",
    "    if response.status_code == 200:\n",
    "        days_data = response.json().get(\"days\", [])\n",
    "\n",
    "        rows = []\n",
    "        for day in days_data:\n",
    "            rows.append({\n",
    "                \"dt\": day[\"datetime\"],  \n",
    "                \"lat\": lat,\n",
    "                \"lon\": lon,\n",
    "                \"temp\": round((day[\"tempmax\"] - 32) * 5 / 9, 1),  \n",
    "                \"humidity\": day[\"humidity\"],\n",
    "                \"windspeed\": round(day[\"windspeed\"] * 1.6, 1),  \n",
    "                \"precip\": round(day[\"precip\"] * 25.4, 1)\n",
    "            })\n",
    "        \n",
    "        return pd.DataFrame(rows)\n",
    "    else:\n",
    "        print(f\"⚠️ Ошибка запроса для dt {dt}: статус {response.status_code}\")\n",
    "        return pd.DataFrame()  \n",
    "\n",
    "locations_df = forrest_fire.iloc[998:1054]\n",
    "\n",
    "result_list = []\n",
    "for index, row in locations_df.iterrows():\n",
    "    df_weather = fetch_weather(row)\n",
    "    result_list.append(df_weather)\n",
    "\n",
    "firecast_df = pd.concat(result_list, ignore_index=True)"
   ]
  },
  {
   "cell_type": "markdown",
   "metadata": {},
   "source": [
    "Создание признака пожара (fire) 1 - был пожар, 0 - не было."
   ]
  },
  {
   "cell_type": "code",
   "execution_count": 33,
   "metadata": {},
   "outputs": [
    {
     "data": {
      "text/html": [
       "<div>\n",
       "<style scoped>\n",
       "    .dataframe tbody tr th:only-of-type {\n",
       "        vertical-align: middle;\n",
       "    }\n",
       "\n",
       "    .dataframe tbody tr th {\n",
       "        vertical-align: top;\n",
       "    }\n",
       "\n",
       "    .dataframe thead th {\n",
       "        text-align: right;\n",
       "    }\n",
       "</style>\n",
       "<table border=\"1\" class=\"dataframe\">\n",
       "  <thead>\n",
       "    <tr style=\"text-align: right;\">\n",
       "      <th></th>\n",
       "      <th>dt</th>\n",
       "      <th>lat</th>\n",
       "      <th>lon</th>\n",
       "      <th>temp</th>\n",
       "      <th>humidity</th>\n",
       "      <th>windspeed</th>\n",
       "      <th>precip</th>\n",
       "      <th>fire</th>\n",
       "      <th>year</th>\n",
       "      <th>month</th>\n",
       "      <th>day</th>\n",
       "    </tr>\n",
       "  </thead>\n",
       "  <tbody>\n",
       "    <tr>\n",
       "      <th>0</th>\n",
       "      <td>2021-07-14</td>\n",
       "      <td>60.9660</td>\n",
       "      <td>28.7680</td>\n",
       "      <td>31.4</td>\n",
       "      <td>60.0</td>\n",
       "      <td>13.6</td>\n",
       "      <td>0.0</td>\n",
       "      <td>0</td>\n",
       "      <td>2021</td>\n",
       "      <td>7</td>\n",
       "      <td>14</td>\n",
       "    </tr>\n",
       "    <tr>\n",
       "      <th>1</th>\n",
       "      <td>2021-07-15</td>\n",
       "      <td>60.9660</td>\n",
       "      <td>28.7680</td>\n",
       "      <td>31.9</td>\n",
       "      <td>64.5</td>\n",
       "      <td>15.5</td>\n",
       "      <td>0.0</td>\n",
       "      <td>0</td>\n",
       "      <td>2021</td>\n",
       "      <td>7</td>\n",
       "      <td>15</td>\n",
       "    </tr>\n",
       "    <tr>\n",
       "      <th>2</th>\n",
       "      <td>2021-07-16</td>\n",
       "      <td>60.9660</td>\n",
       "      <td>28.7680</td>\n",
       "      <td>26.8</td>\n",
       "      <td>65.0</td>\n",
       "      <td>22.2</td>\n",
       "      <td>0.0</td>\n",
       "      <td>1</td>\n",
       "      <td>2021</td>\n",
       "      <td>7</td>\n",
       "      <td>16</td>\n",
       "    </tr>\n",
       "    <tr>\n",
       "      <th>3</th>\n",
       "      <td>2021-07-15</td>\n",
       "      <td>60.9917</td>\n",
       "      <td>30.0575</td>\n",
       "      <td>31.6</td>\n",
       "      <td>65.7</td>\n",
       "      <td>19.8</td>\n",
       "      <td>0.0</td>\n",
       "      <td>0</td>\n",
       "      <td>2021</td>\n",
       "      <td>7</td>\n",
       "      <td>15</td>\n",
       "    </tr>\n",
       "    <tr>\n",
       "      <th>4</th>\n",
       "      <td>2021-07-16</td>\n",
       "      <td>60.9917</td>\n",
       "      <td>30.0575</td>\n",
       "      <td>28.2</td>\n",
       "      <td>64.3</td>\n",
       "      <td>21.4</td>\n",
       "      <td>0.0</td>\n",
       "      <td>0</td>\n",
       "      <td>2021</td>\n",
       "      <td>7</td>\n",
       "      <td>16</td>\n",
       "    </tr>\n",
       "    <tr>\n",
       "      <th>5</th>\n",
       "      <td>2021-07-17</td>\n",
       "      <td>60.9917</td>\n",
       "      <td>30.0575</td>\n",
       "      <td>26.1</td>\n",
       "      <td>60.2</td>\n",
       "      <td>14.2</td>\n",
       "      <td>0.0</td>\n",
       "      <td>1</td>\n",
       "      <td>2021</td>\n",
       "      <td>7</td>\n",
       "      <td>17</td>\n",
       "    </tr>\n",
       "    <tr>\n",
       "      <th>6</th>\n",
       "      <td>2021-07-16</td>\n",
       "      <td>62.0579</td>\n",
       "      <td>33.0667</td>\n",
       "      <td>31.0</td>\n",
       "      <td>61.9</td>\n",
       "      <td>21.4</td>\n",
       "      <td>1.0</td>\n",
       "      <td>0</td>\n",
       "      <td>2021</td>\n",
       "      <td>7</td>\n",
       "      <td>16</td>\n",
       "    </tr>\n",
       "    <tr>\n",
       "      <th>7</th>\n",
       "      <td>2021-07-17</td>\n",
       "      <td>62.0579</td>\n",
       "      <td>33.0667</td>\n",
       "      <td>25.3</td>\n",
       "      <td>54.4</td>\n",
       "      <td>14.2</td>\n",
       "      <td>0.0</td>\n",
       "      <td>0</td>\n",
       "      <td>2021</td>\n",
       "      <td>7</td>\n",
       "      <td>17</td>\n",
       "    </tr>\n",
       "    <tr>\n",
       "      <th>8</th>\n",
       "      <td>2021-07-18</td>\n",
       "      <td>62.0579</td>\n",
       "      <td>33.0667</td>\n",
       "      <td>29.0</td>\n",
       "      <td>57.4</td>\n",
       "      <td>28.6</td>\n",
       "      <td>0.0</td>\n",
       "      <td>1</td>\n",
       "      <td>2021</td>\n",
       "      <td>7</td>\n",
       "      <td>18</td>\n",
       "    </tr>\n",
       "    <tr>\n",
       "      <th>9</th>\n",
       "      <td>2021-07-17</td>\n",
       "      <td>62.0145</td>\n",
       "      <td>33.2355</td>\n",
       "      <td>25.3</td>\n",
       "      <td>54.4</td>\n",
       "      <td>14.2</td>\n",
       "      <td>0.0</td>\n",
       "      <td>0</td>\n",
       "      <td>2021</td>\n",
       "      <td>7</td>\n",
       "      <td>17</td>\n",
       "    </tr>\n",
       "    <tr>\n",
       "      <th>10</th>\n",
       "      <td>2021-07-18</td>\n",
       "      <td>62.0145</td>\n",
       "      <td>33.2355</td>\n",
       "      <td>29.0</td>\n",
       "      <td>57.3</td>\n",
       "      <td>28.6</td>\n",
       "      <td>0.0</td>\n",
       "      <td>0</td>\n",
       "      <td>2021</td>\n",
       "      <td>7</td>\n",
       "      <td>18</td>\n",
       "    </tr>\n",
       "    <tr>\n",
       "      <th>11</th>\n",
       "      <td>2021-07-19</td>\n",
       "      <td>62.0145</td>\n",
       "      <td>33.2355</td>\n",
       "      <td>23.0</td>\n",
       "      <td>64.6</td>\n",
       "      <td>17.9</td>\n",
       "      <td>0.8</td>\n",
       "      <td>1</td>\n",
       "      <td>2021</td>\n",
       "      <td>7</td>\n",
       "      <td>19</td>\n",
       "    </tr>\n",
       "  </tbody>\n",
       "</table>\n",
       "</div>"
      ],
      "text/plain": [
       "           dt      lat      lon  temp  humidity  windspeed  precip  fire  \\\n",
       "0  2021-07-14  60.9660  28.7680  31.4      60.0       13.6     0.0     0   \n",
       "1  2021-07-15  60.9660  28.7680  31.9      64.5       15.5     0.0     0   \n",
       "2  2021-07-16  60.9660  28.7680  26.8      65.0       22.2     0.0     1   \n",
       "3  2021-07-15  60.9917  30.0575  31.6      65.7       19.8     0.0     0   \n",
       "4  2021-07-16  60.9917  30.0575  28.2      64.3       21.4     0.0     0   \n",
       "5  2021-07-17  60.9917  30.0575  26.1      60.2       14.2     0.0     1   \n",
       "6  2021-07-16  62.0579  33.0667  31.0      61.9       21.4     1.0     0   \n",
       "7  2021-07-17  62.0579  33.0667  25.3      54.4       14.2     0.0     0   \n",
       "8  2021-07-18  62.0579  33.0667  29.0      57.4       28.6     0.0     1   \n",
       "9  2021-07-17  62.0145  33.2355  25.3      54.4       14.2     0.0     0   \n",
       "10 2021-07-18  62.0145  33.2355  29.0      57.3       28.6     0.0     0   \n",
       "11 2021-07-19  62.0145  33.2355  23.0      64.6       17.9     0.8     1   \n",
       "\n",
       "    year  month  day  \n",
       "0   2021      7   14  \n",
       "1   2021      7   15  \n",
       "2   2021      7   16  \n",
       "3   2021      7   15  \n",
       "4   2021      7   16  \n",
       "5   2021      7   17  \n",
       "6   2021      7   16  \n",
       "7   2021      7   17  \n",
       "8   2021      7   18  \n",
       "9   2021      7   17  \n",
       "10  2021      7   18  \n",
       "11  2021      7   19  "
      ]
     },
     "execution_count": 33,
     "metadata": {},
     "output_type": "execute_result"
    }
   ],
   "source": [
    "firecast_df['fire'] = (firecast_df.index % 3 == 2).astype(int)\n",
    "firecast_df.head(12)"
   ]
  },
  {
   "cell_type": "markdown",
   "metadata": {},
   "source": [
    "Преобразование столбца dt в тип datetime и добавляем три столбца year, month, day."
   ]
  },
  {
   "cell_type": "code",
   "execution_count": 34,
   "metadata": {},
   "outputs": [
    {
     "data": {
      "text/html": [
       "<div>\n",
       "<style scoped>\n",
       "    .dataframe tbody tr th:only-of-type {\n",
       "        vertical-align: middle;\n",
       "    }\n",
       "\n",
       "    .dataframe tbody tr th {\n",
       "        vertical-align: top;\n",
       "    }\n",
       "\n",
       "    .dataframe thead th {\n",
       "        text-align: right;\n",
       "    }\n",
       "</style>\n",
       "<table border=\"1\" class=\"dataframe\">\n",
       "  <thead>\n",
       "    <tr style=\"text-align: right;\">\n",
       "      <th></th>\n",
       "      <th>dt</th>\n",
       "      <th>lat</th>\n",
       "      <th>lon</th>\n",
       "      <th>temp</th>\n",
       "      <th>humidity</th>\n",
       "      <th>windspeed</th>\n",
       "      <th>precip</th>\n",
       "      <th>fire</th>\n",
       "      <th>year</th>\n",
       "      <th>month</th>\n",
       "      <th>day</th>\n",
       "    </tr>\n",
       "  </thead>\n",
       "  <tbody>\n",
       "    <tr>\n",
       "      <th>0</th>\n",
       "      <td>2021-07-14</td>\n",
       "      <td>60.9660</td>\n",
       "      <td>28.7680</td>\n",
       "      <td>31.4</td>\n",
       "      <td>60.0</td>\n",
       "      <td>13.6</td>\n",
       "      <td>0.0</td>\n",
       "      <td>0</td>\n",
       "      <td>2021</td>\n",
       "      <td>7</td>\n",
       "      <td>14</td>\n",
       "    </tr>\n",
       "    <tr>\n",
       "      <th>1</th>\n",
       "      <td>2021-07-15</td>\n",
       "      <td>60.9660</td>\n",
       "      <td>28.7680</td>\n",
       "      <td>31.9</td>\n",
       "      <td>64.5</td>\n",
       "      <td>15.5</td>\n",
       "      <td>0.0</td>\n",
       "      <td>0</td>\n",
       "      <td>2021</td>\n",
       "      <td>7</td>\n",
       "      <td>15</td>\n",
       "    </tr>\n",
       "    <tr>\n",
       "      <th>2</th>\n",
       "      <td>2021-07-16</td>\n",
       "      <td>60.9660</td>\n",
       "      <td>28.7680</td>\n",
       "      <td>26.8</td>\n",
       "      <td>65.0</td>\n",
       "      <td>22.2</td>\n",
       "      <td>0.0</td>\n",
       "      <td>1</td>\n",
       "      <td>2021</td>\n",
       "      <td>7</td>\n",
       "      <td>16</td>\n",
       "    </tr>\n",
       "    <tr>\n",
       "      <th>3</th>\n",
       "      <td>2021-07-15</td>\n",
       "      <td>60.9917</td>\n",
       "      <td>30.0575</td>\n",
       "      <td>31.6</td>\n",
       "      <td>65.7</td>\n",
       "      <td>19.8</td>\n",
       "      <td>0.0</td>\n",
       "      <td>0</td>\n",
       "      <td>2021</td>\n",
       "      <td>7</td>\n",
       "      <td>15</td>\n",
       "    </tr>\n",
       "    <tr>\n",
       "      <th>4</th>\n",
       "      <td>2021-07-16</td>\n",
       "      <td>60.9917</td>\n",
       "      <td>30.0575</td>\n",
       "      <td>28.2</td>\n",
       "      <td>64.3</td>\n",
       "      <td>21.4</td>\n",
       "      <td>0.0</td>\n",
       "      <td>0</td>\n",
       "      <td>2021</td>\n",
       "      <td>7</td>\n",
       "      <td>16</td>\n",
       "    </tr>\n",
       "  </tbody>\n",
       "</table>\n",
       "</div>"
      ],
      "text/plain": [
       "          dt      lat      lon  temp  humidity  windspeed  precip  fire  year  \\\n",
       "0 2021-07-14  60.9660  28.7680  31.4      60.0       13.6     0.0     0  2021   \n",
       "1 2021-07-15  60.9660  28.7680  31.9      64.5       15.5     0.0     0  2021   \n",
       "2 2021-07-16  60.9660  28.7680  26.8      65.0       22.2     0.0     1  2021   \n",
       "3 2021-07-15  60.9917  30.0575  31.6      65.7       19.8     0.0     0  2021   \n",
       "4 2021-07-16  60.9917  30.0575  28.2      64.3       21.4     0.0     0  2021   \n",
       "\n",
       "   month  day  \n",
       "0      7   14  \n",
       "1      7   15  \n",
       "2      7   16  \n",
       "3      7   15  \n",
       "4      7   16  "
      ]
     },
     "execution_count": 34,
     "metadata": {},
     "output_type": "execute_result"
    }
   ],
   "source": [
    "firecast_df['dt'] = pd.to_datetime(firecast_df['dt'])\n",
    "firecast_df['year'] = firecast_df['dt'].dt.year\n",
    "firecast_df['month'] = firecast_df['dt'].dt.month\n",
    "firecast_df['day'] = firecast_df['dt'].dt.day\n",
    "firecast_df.head()"
   ]
  },
  {
   "cell_type": "markdown",
   "metadata": {},
   "source": [
    "Построим гистрограмму и коробчатую диаграмму для признака temp - температура (C)."
   ]
  },
  {
   "cell_type": "code",
   "execution_count": 35,
   "metadata": {},
   "outputs": [
    {
     "data": {
      "text/plain": [
       "Text(0.5, 1.0, 'Temp Boxplot')"
      ]
     },
     "execution_count": 35,
     "metadata": {},
     "output_type": "execute_result"
    },
    {
     "data": {
      "image/png": "[encoded data removed]",
      "text/plain": [
       "<Figure size 1500x400 with 2 Axes>"
      ]
     },
     "metadata": {},
     "output_type": "display_data"
    }
   ],
   "source": [
    "fig, axes = plt.subplots(nrows=1, ncols=2, figsize=(15, 4))\n",
    "histplot = sns.histplot(data=firecast_df, x='temp', ax=axes[0])\n",
    "histplot.set_title('Temp Distribution')\n",
    "boxplot = sns.boxplot(data=firecast_df, x='temp', ax=axes[1])\n",
    "boxplot.set_title('Temp Boxplot')"
   ]
  },
  {
   "cell_type": "markdown",
   "metadata": {},
   "source": [
    "Метод межквартильного размаха."
   ]
  },
  {
   "cell_type": "code",
   "execution_count": 36,
   "metadata": {},
   "outputs": [],
   "source": [
    "def outliers_iqr(data, feature):\n",
    "    x = data[feature]\n",
    "    quartile_1, quartile_3 = x.quantile(0.25), x.quantile(0.75),\n",
    "    iqr = quartile_3 - quartile_1\n",
    "    lower_bound = quartile_1 - (iqr * 1.5)\n",
    "    upper_bound = quartile_3 + (iqr * 1.5)\n",
    "    outliers = data[(x < lower_bound) | (x > upper_bound)]\n",
    "    cleaned = data[(x >= lower_bound) & (x <= upper_bound)]\n",
    "    return outliers, cleaned"
   ]
  },
  {
   "cell_type": "code",
   "execution_count": null,
   "metadata": {},
   "outputs": [
    {
     "name": "stdout",
     "output_type": "stream",
     "text": [
      "Число выбросов по методу Тьюки: 38\n",
      "Результирующее число записей: 3124\n"
     ]
    }
   ],
   "source": [
    "outliers, firecast_df = outliers_iqr(firecast_df, 'temp')\n",
    "print(f'Число выбросов по методу Тьюки: {outliers.shape[0]}')\n",
    "print(f'Результирующее число записей: {firecast_df.shape[0]}')"
   ]
  },
  {
   "cell_type": "markdown",
   "metadata": {},
   "source": [
    "Графики после очистки методом межквартильного размаха."
   ]
  },
  {
   "cell_type": "code",
   "execution_count": null,
   "metadata": {},
   "outputs": [
    {
     "data": {
      "text/plain": [
       "Text(0.5, 1.0, 'Cleaned Temp Boxplot')"
      ]
     },
     "execution_count": 38,
     "metadata": {},
     "output_type": "execute_result"
    },
    {
     "data": {
      "image/png": "[encoded data removed]",
      "text/plain": [
       "<Figure size 1500x400 with 2 Axes>"
      ]
     },
     "metadata": {},
     "output_type": "display_data"
    }
   ],
   "source": [
    "fig, axes = plt.subplots(nrows=1, ncols=2, figsize=(15, 4))\n",
    "histplot = sns.histplot(data=firecast_df, x='temp', ax=axes[0])\n",
    "histplot.set_title('Cleaned Temp Distribution')\n",
    "boxplot = sns.boxplot(data=firecast_df, x='temp', ax=axes[1])\n",
    "boxplot.set_title('Cleaned Temp Boxplot')"
   ]
  },
  {
   "cell_type": "markdown",
   "metadata": {},
   "source": [
    "Построим гистрограмму и коробчатую диаграмму для признака humidity - относительная влажность (%)."
   ]
  },
  {
   "cell_type": "code",
   "execution_count": 39,
   "metadata": {},
   "outputs": [
    {
     "data": {
      "text/plain": [
       "Text(0.5, 1.0, 'Humidity Boxplot')"
      ]
     },
     "execution_count": 39,
     "metadata": {},
     "output_type": "execute_result"
    },
    {
     "data": {
      "image/png": "[encoded data removed]",
      "text/plain": [
       "<Figure size 1500x400 with 2 Axes>"
      ]
     },
     "metadata": {},
     "output_type": "display_data"
    }
   ],
   "source": [
    "fig, axes = plt.subplots(nrows=1, ncols=2, figsize=(15, 4))\n",
    "histplot = sns.histplot(data=firecast_df, x='humidity', ax=axes[0])\n",
    "histplot.set_title('HumidityDistribution')\n",
    "boxplot = sns.boxplot(data=firecast_df, x='humidity', ax=axes[1])\n",
    "boxplot.set_title('Humidity Boxplot')"
   ]
  },
  {
   "cell_type": "code",
   "execution_count": null,
   "metadata": {},
   "outputs": [
    {
     "name": "stdout",
     "output_type": "stream",
     "text": [
      "Число выбросов по методу Тьюки: 25\n",
      "Результирующее число записей: 3099\n"
     ]
    }
   ],
   "source": [
    "outliers, firecast_df = outliers_iqr(firecast_df, 'humidity')\n",
    "print(f'Число выбросов по методу Тьюки: {outliers.shape[0]}')\n",
    "print(f'Результирующее число записей: {cleaned.shape[0]}')"
   ]
  },
  {
   "cell_type": "markdown",
   "metadata": {},
   "source": [
    "Графики после очистки методом межквартильного размаха."
   ]
  },
  {
   "cell_type": "code",
   "execution_count": null,
   "metadata": {},
   "outputs": [
    {
     "data": {
      "text/plain": [
       "Text(0.5, 1.0, 'Cleaned Humidity Boxplot')"
      ]
     },
     "execution_count": 41,
     "metadata": {},
     "output_type": "execute_result"
    },
    {
     "data": {
      "image/png": "[encoded data removed]",
      "text/plain": [
       "<Figure size 1500x400 with 2 Axes>"
      ]
     },
     "metadata": {},
     "output_type": "display_data"
    }
   ],
   "source": [
    "fig, axes = plt.subplots(nrows=1, ncols=2, figsize=(15, 4))\n",
    "histplot = sns.histplot(data=firecast_df, x='humidity', ax=axes[0])\n",
    "histplot.set_title('Cleaned Humidity Distribution')\n",
    "boxplot = sns.boxplot(data=firecast_df, x='humidity', ax=axes[1])\n",
    "boxplot.set_title('Cleaned Humidity Boxplot')"
   ]
  },
  {
   "cell_type": "markdown",
   "metadata": {},
   "source": [
    "Построим две гистограммы для признака windspeed - скрость ветра (км/ч), первая — в обычном масштабе, а вторая — в логарифмическом."
   ]
  },
  {
   "cell_type": "code",
   "execution_count": null,
   "metadata": {},
   "outputs": [
    {
     "data": {
      "text/plain": [
       "Text(0.5, 1.0, 'Log Windspeed Distribution')"
      ]
     },
     "execution_count": 42,
     "metadata": {},
     "output_type": "execute_result"
    },
    {
     "data": {
      "image/png": "[encoded data removed]",
      "text/plain": [
       "<Figure size 1500x400 with 2 Axes>"
      ]
     },
     "metadata": {},
     "output_type": "display_data"
    }
   ],
   "source": [
    "fig, axes = plt.subplots(1, 2, figsize=(15, 4))\n",
    "histplot = sns.histplot(firecast_df['windspeed'], bins=30, ax=axes[0])\n",
    "histplot.set_title('Windspeed Distribution')\n",
    "\n",
    "log_mkad_km= np.log(firecast_df['windspeed'] + 1)\n",
    "histplot = sns.histplot(log_mkad_km , bins=30, ax=axes[1])\n",
    "histplot.set_title('Log Windspeed Distribution')"
   ]
  },
  {
   "cell_type": "markdown",
   "metadata": {},
   "source": [
    "Метод z-отклонений."
   ]
  },
  {
   "cell_type": "code",
   "execution_count": 43,
   "metadata": {},
   "outputs": [],
   "source": [
    "def outliers_z_score_mod(data, feature, log_scale=False, left= 3, right= 3):\n",
    "    if log_scale:\n",
    "        x = np.log(data[feature]+1)\n",
    "    else:\n",
    "        x = data[feature]\n",
    "    mu = x.mean()\n",
    "    sigma = x.std()\n",
    "    lower_bound = mu - left * sigma\n",
    "    upper_bound = mu + right * sigma\n",
    "    outliers = data[(x < lower_bound) | (x > upper_bound)]\n",
    "    cleaned = data[(x >= lower_bound) & (x <= upper_bound)]\n",
    "    return outliers, cleaned"
   ]
  },
  {
   "cell_type": "code",
   "execution_count": null,
   "metadata": {},
   "outputs": [
    {
     "data": {
      "text/plain": [
       "Text(0.5, 1.0, 'Log Windspeed Distribution')"
      ]
     },
     "execution_count": 44,
     "metadata": {},
     "output_type": "execute_result"
    },
    {
     "data": {
      "image/png": "[encoded data removed]",
      "text/plain": [
       "<Figure size 800x400 with 1 Axes>"
      ]
     },
     "metadata": {},
     "output_type": "display_data"
    }
   ],
   "source": [
    "fig, ax = plt.subplots(1, 1, figsize=(8, 4))\n",
    "log_mkad_km = np.log(firecast_df['windspeed'] + 1)\n",
    "histplot = sns.histplot(log_mkad_km, bins=30, ax=ax)\n",
    "histplot.axvline(log_mkad_km.mean(), color='k', lw=2)\n",
    "histplot.axvline(log_mkad_km.mean()+ 3 * log_mkad_km.std(), color='k', ls='--', lw=2)\n",
    "histplot.axvline(log_mkad_km.mean()- 3 * log_mkad_km.std(), color='k', ls='--', lw=2)\n",
    "histplot.set_title('Log Windspeed Distribution')"
   ]
  },
  {
   "cell_type": "code",
   "execution_count": null,
   "metadata": {},
   "outputs": [
    {
     "name": "stdout",
     "output_type": "stream",
     "text": [
      "Число выбросов по методу z-отклонения: 7\n",
      "Результирующее число записей: 3092\n"
     ]
    }
   ],
   "source": [
    "outliers, firecast_df = outliers_z_score_mod(firecast_df, 'windspeed', log_scale=True)\n",
    "print(f'Число выбросов по методу z-отклонения: {outliers.shape[0]}')\n",
    "print(f'Результирующее число записей: {firecast_df.shape[0]}')"
   ]
  },
  {
   "cell_type": "markdown",
   "metadata": {},
   "source": [
    "График после очистки методом межквартильного размаха."
   ]
  },
  {
   "cell_type": "code",
   "execution_count": null,
   "metadata": {},
   "outputs": [
    {
     "data": {
      "text/plain": [
       "Text(0.5, 1.0, 'Cleaned Windspeed Distribution')"
      ]
     },
     "execution_count": 46,
     "metadata": {},
     "output_type": "execute_result"
    },
    {
     "data": {
      "image/png": "[encoded data removed]",
      "text/plain": [
       "<Figure size 1200x700 with 1 Axes>"
      ]
     },
     "metadata": {},
     "output_type": "display_data"
    }
   ],
   "source": [
    "fig = plt.subplots(figsize=(12, 7))\n",
    "histplot = sns.histplot(data=firecast_df, x='windspeed')\n",
    "histplot.set_title('Cleaned Windspeed Distribution')"
   ]
  },
  {
   "cell_type": "markdown",
   "metadata": {},
   "source": [
    "Оставим только необходимые признаки, сбросим индексы и запишем df их в csv файл."
   ]
  },
  {
   "cell_type": "code",
   "execution_count": null,
   "metadata": {},
   "outputs": [],
   "source": [
    "firecast_df = firecast_df.drop(columns= ['dt', 'lon', 'year', 'day'])"
   ]
  },
  {
   "cell_type": "code",
   "execution_count": null,
   "metadata": {},
   "outputs": [],
   "source": [
    "compression_opts = dict(method='zip', archive_name='dataset.csv') \n",
    "firecast_df.to_csv('dataset.zip', index=False, compression=compression_opts)"
   ]
  },
  {
   "cell_type": "code",
   "execution_count": 73,
   "metadata": {},
   "outputs": [
    {
     "data": {
      "text/html": [
       "<div>\n",
       "<style scoped>\n",
       "    .dataframe tbody tr th:only-of-type {\n",
       "        vertical-align: middle;\n",
       "    }\n",
       "\n",
       "    .dataframe tbody tr th {\n",
       "        vertical-align: top;\n",
       "    }\n",
       "\n",
       "    .dataframe thead th {\n",
       "        text-align: right;\n",
       "    }\n",
       "</style>\n",
       "<table border=\"1\" class=\"dataframe\">\n",
       "  <thead>\n",
       "    <tr style=\"text-align: right;\">\n",
       "      <th></th>\n",
       "      <th>lat</th>\n",
       "      <th>temp</th>\n",
       "      <th>humidity</th>\n",
       "      <th>windspeed</th>\n",
       "      <th>precip</th>\n",
       "      <th>fire</th>\n",
       "      <th>month</th>\n",
       "    </tr>\n",
       "  </thead>\n",
       "  <tbody>\n",
       "    <tr>\n",
       "      <th>0</th>\n",
       "      <td>60.9660</td>\n",
       "      <td>31.4</td>\n",
       "      <td>60.0</td>\n",
       "      <td>13.6</td>\n",
       "      <td>0.0</td>\n",
       "      <td>0</td>\n",
       "      <td>7</td>\n",
       "    </tr>\n",
       "    <tr>\n",
       "      <th>1</th>\n",
       "      <td>60.9660</td>\n",
       "      <td>31.9</td>\n",
       "      <td>64.5</td>\n",
       "      <td>15.5</td>\n",
       "      <td>0.0</td>\n",
       "      <td>0</td>\n",
       "      <td>7</td>\n",
       "    </tr>\n",
       "    <tr>\n",
       "      <th>2</th>\n",
       "      <td>60.9660</td>\n",
       "      <td>26.8</td>\n",
       "      <td>65.0</td>\n",
       "      <td>22.2</td>\n",
       "      <td>0.0</td>\n",
       "      <td>1</td>\n",
       "      <td>7</td>\n",
       "    </tr>\n",
       "    <tr>\n",
       "      <th>3</th>\n",
       "      <td>60.9917</td>\n",
       "      <td>31.6</td>\n",
       "      <td>65.7</td>\n",
       "      <td>19.8</td>\n",
       "      <td>0.0</td>\n",
       "      <td>0</td>\n",
       "      <td>7</td>\n",
       "    </tr>\n",
       "    <tr>\n",
       "      <th>4</th>\n",
       "      <td>60.9917</td>\n",
       "      <td>28.2</td>\n",
       "      <td>64.3</td>\n",
       "      <td>21.4</td>\n",
       "      <td>0.0</td>\n",
       "      <td>0</td>\n",
       "      <td>7</td>\n",
       "    </tr>\n",
       "    <tr>\n",
       "      <th>5</th>\n",
       "      <td>60.9917</td>\n",
       "      <td>26.1</td>\n",
       "      <td>60.2</td>\n",
       "      <td>14.2</td>\n",
       "      <td>0.0</td>\n",
       "      <td>1</td>\n",
       "      <td>7</td>\n",
       "    </tr>\n",
       "    <tr>\n",
       "      <th>6</th>\n",
       "      <td>62.0579</td>\n",
       "      <td>31.0</td>\n",
       "      <td>61.9</td>\n",
       "      <td>21.4</td>\n",
       "      <td>1.0</td>\n",
       "      <td>0</td>\n",
       "      <td>7</td>\n",
       "    </tr>\n",
       "    <tr>\n",
       "      <th>7</th>\n",
       "      <td>62.0579</td>\n",
       "      <td>25.3</td>\n",
       "      <td>54.4</td>\n",
       "      <td>14.2</td>\n",
       "      <td>0.0</td>\n",
       "      <td>0</td>\n",
       "      <td>7</td>\n",
       "    </tr>\n",
       "    <tr>\n",
       "      <th>8</th>\n",
       "      <td>62.0579</td>\n",
       "      <td>29.0</td>\n",
       "      <td>57.4</td>\n",
       "      <td>28.6</td>\n",
       "      <td>0.0</td>\n",
       "      <td>1</td>\n",
       "      <td>7</td>\n",
       "    </tr>\n",
       "    <tr>\n",
       "      <th>9</th>\n",
       "      <td>62.0145</td>\n",
       "      <td>25.3</td>\n",
       "      <td>54.4</td>\n",
       "      <td>14.2</td>\n",
       "      <td>0.0</td>\n",
       "      <td>0</td>\n",
       "      <td>7</td>\n",
       "    </tr>\n",
       "    <tr>\n",
       "      <th>10</th>\n",
       "      <td>62.0145</td>\n",
       "      <td>29.0</td>\n",
       "      <td>57.3</td>\n",
       "      <td>28.6</td>\n",
       "      <td>0.0</td>\n",
       "      <td>0</td>\n",
       "      <td>7</td>\n",
       "    </tr>\n",
       "    <tr>\n",
       "      <th>11</th>\n",
       "      <td>62.0145</td>\n",
       "      <td>23.0</td>\n",
       "      <td>64.6</td>\n",
       "      <td>17.9</td>\n",
       "      <td>0.8</td>\n",
       "      <td>1</td>\n",
       "      <td>7</td>\n",
       "    </tr>\n",
       "  </tbody>\n",
       "</table>\n",
       "</div>"
      ],
      "text/plain": [
       "        lat  temp  humidity  windspeed  precip  fire  month\n",
       "0   60.9660  31.4      60.0       13.6     0.0     0      7\n",
       "1   60.9660  31.9      64.5       15.5     0.0     0      7\n",
       "2   60.9660  26.8      65.0       22.2     0.0     1      7\n",
       "3   60.9917  31.6      65.7       19.8     0.0     0      7\n",
       "4   60.9917  28.2      64.3       21.4     0.0     0      7\n",
       "5   60.9917  26.1      60.2       14.2     0.0     1      7\n",
       "6   62.0579  31.0      61.9       21.4     1.0     0      7\n",
       "7   62.0579  25.3      54.4       14.2     0.0     0      7\n",
       "8   62.0579  29.0      57.4       28.6     0.0     1      7\n",
       "9   62.0145  25.3      54.4       14.2     0.0     0      7\n",
       "10  62.0145  29.0      57.3       28.6     0.0     0      7\n",
       "11  62.0145  23.0      64.6       17.9     0.8     1      7"
      ]
     },
     "execution_count": 73,
     "metadata": {},
     "output_type": "execute_result"
    }
   ],
   "source": [
    "firecast_df.head(12)"
   ]
  },
  {
   "cell_type": "markdown",
   "metadata": {},
   "source": [
    "Получение регионов с помощью api запросов. https://docs.locationiq.com/"
   ]
  },
  {
   "cell_type": "code",
   "execution_count": null,
   "metadata": {},
   "outputs": [],
   "source": [
    "REGION_API_KEY = 'pk.75bd506ce93aed96139f28e16410fcb9'\n",
    "#REGION_API_KEY = 'pk.b31768339c26465ba31eb25fcc8a1db9 '\n",
    "def getRegion(row):\n",
    "\n",
    "    lon, lat =  row['lon'], row['lat']\n",
    "\n",
    "    url = f\"https://us1.locationiq.com/v1/reverse?key={REGION_API_KEY}&lat={lat}&lon={lon}&format=json\"\n",
    "\n",
    "    response = requests.get(url)\n",
    "\n",
    "    if response.status_code == 200:\n",
    "        data = response.json()\n",
    "        region = data['address'].get('region', None)\n",
    "    else:\n",
    "        print(f\"Ошибка {response.status_code}: {response.text}\")\n",
    "        region = None\n",
    "\n",
    "    time.sleep(1)\n",
    "\n",
    "    return region\n",
    "\n",
    "firecast_df['region'] = firecast_df.apply(getRegion, axis= 1)\n",
    "firecast_df"
   ]
  },
  {
   "cell_type": "code",
   "execution_count": null,
   "metadata": {},
   "outputs": [],
   "source": [
    "firecast_df['region'].value_counts()"
   ]
  },
  {
   "cell_type": "code",
   "execution_count": null,
   "metadata": {},
   "outputs": [],
   "source": [
    "regions_code = {'Far Eastern Federal District': 1,\n",
    "                'Siberian Federal District': 2,\n",
    "                'Ural Federal District': 3,\n",
    "                'Volga Federal District': 4,\n",
    "                'Central Federal District': 5,\n",
    "                'Northwestern Federal District': 6,}\n",
    "\n",
    "def codingRegion(x):\n",
    "    return regions_code[x]\n",
    "\n",
    "firecast_df['region_code'] = firecast_df['region'].apply(codingRegion)\n",
    "firecast_df.head(12)"
   ]
  },
  {
   "cell_type": "markdown",
   "metadata": {},
   "source": [
    "# compression_opts = dict(method='zip', archive_name='out.csv') \n",
    "# cleaned.to_csv('data/out.zip', index=False, compression=compression_opts)"
   ]
  },
  {
   "cell_type": "code",
   "execution_count": null,
   "metadata": {},
   "outputs": [],
   "source": []
  }
 ],
 "metadata": {
  "kernelspec": {
   "display_name": "Python 3",
   "language": "python",
   "name": "python3"
  },
  "language_info": {
   "codemirror_mode": {
    "name": "ipython",
    "version": 3
   },
   "file_extension": ".py",
   "mimetype": "text/x-python",
   "name": "python",
   "nbconvert_exporter": "python",
   "pygments_lexer": "ipython3",
   "version": "3.12.2"
  }
 },
 "nbformat": 4,
 "nbformat_minor": 2
}
