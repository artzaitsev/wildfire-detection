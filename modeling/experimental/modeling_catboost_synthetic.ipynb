{
 "cells": [
  {
   "cell_type": "markdown",
   "metadata": {},
   "source": [
    "# Установка и импорт библиотек"
   ]
  },
  {
   "cell_type": "code",
   "metadata": {
    "colab": {
     "base_uri": "https://localhost:8080/"
    },
    "id": "RLjiA4gqb8UH",
    "outputId": "a613b80a-3fc3-44b0-d227-719e82944d7f",
    "ExecuteTime": {
     "end_time": "2025-02-08T11:22:50.442477Z",
     "start_time": "2025-02-08T11:22:41.934889Z"
    }
   },
   "source": [
    "!pip install openpyxl\n",
    "!pip install catboost\n",
    "!pip install optuna\n",
    "!pip install scikit-learn"
   ],
   "outputs": [
    {
     "name": "stdout",
     "output_type": "stream",
     "text": [
      "Requirement already satisfied: openpyxl in /Users/atzaytsev/Proj/Avito/wildfire-detection/.venv/lib/python3.9/site-packages (3.1.5)\r\n",
      "Requirement already satisfied: et-xmlfile in /Users/atzaytsev/Proj/Avito/wildfire-detection/.venv/lib/python3.9/site-packages (from openpyxl) (2.0.0)\r\n",
      "\u001B[33mWARNING: There was an error checking the latest version of pip.\u001B[0m\u001B[33m\r\n",
      "\u001B[0mRequirement already satisfied: catboost in /Users/atzaytsev/Proj/Avito/wildfire-detection/.venv/lib/python3.9/site-packages (1.2.7)\r\n",
      "Requirement already satisfied: graphviz in /Users/atzaytsev/Proj/Avito/wildfire-detection/.venv/lib/python3.9/site-packages (from catboost) (0.20.3)\r\n",
      "Requirement already satisfied: matplotlib in /Users/atzaytsev/Proj/Avito/wildfire-detection/.venv/lib/python3.9/site-packages (from catboost) (3.9.4)\r\n",
      "Requirement already satisfied: numpy<2.0,>=1.16.0 in /Users/atzaytsev/Proj/Avito/wildfire-detection/.venv/lib/python3.9/site-packages (from catboost) (1.26.4)\r\n",
      "Requirement already satisfied: pandas>=0.24 in /Users/atzaytsev/Proj/Avito/wildfire-detection/.venv/lib/python3.9/site-packages (from catboost) (2.2.3)\r\n",
      "Requirement already satisfied: scipy in /Users/atzaytsev/Proj/Avito/wildfire-detection/.venv/lib/python3.9/site-packages (from catboost) (1.13.1)\r\n",
      "Requirement already satisfied: plotly in /Users/atzaytsev/Proj/Avito/wildfire-detection/.venv/lib/python3.9/site-packages (from catboost) (6.0.0)\r\n",
      "Requirement already satisfied: six in /Users/atzaytsev/Proj/Avito/wildfire-detection/.venv/lib/python3.9/site-packages (from catboost) (1.17.0)\r\n",
      "Requirement already satisfied: python-dateutil>=2.8.2 in /Users/atzaytsev/Proj/Avito/wildfire-detection/.venv/lib/python3.9/site-packages (from pandas>=0.24->catboost) (2.9.0.post0)\r\n",
      "Requirement already satisfied: pytz>=2020.1 in /Users/atzaytsev/Proj/Avito/wildfire-detection/.venv/lib/python3.9/site-packages (from pandas>=0.24->catboost) (2025.1)\r\n",
      "Requirement already satisfied: tzdata>=2022.7 in /Users/atzaytsev/Proj/Avito/wildfire-detection/.venv/lib/python3.9/site-packages (from pandas>=0.24->catboost) (2025.1)\r\n",
      "Requirement already satisfied: contourpy>=1.0.1 in /Users/atzaytsev/Proj/Avito/wildfire-detection/.venv/lib/python3.9/site-packages (from matplotlib->catboost) (1.3.0)\r\n",
      "Requirement already satisfied: cycler>=0.10 in /Users/atzaytsev/Proj/Avito/wildfire-detection/.venv/lib/python3.9/site-packages (from matplotlib->catboost) (0.12.1)\r\n",
      "Requirement already satisfied: fonttools>=4.22.0 in /Users/atzaytsev/Proj/Avito/wildfire-detection/.venv/lib/python3.9/site-packages (from matplotlib->catboost) (4.56.0)\r\n",
      "Requirement already satisfied: kiwisolver>=1.3.1 in /Users/atzaytsev/Proj/Avito/wildfire-detection/.venv/lib/python3.9/site-packages (from matplotlib->catboost) (1.4.7)\r\n",
      "Requirement already satisfied: packaging>=20.0 in /Users/atzaytsev/Proj/Avito/wildfire-detection/.venv/lib/python3.9/site-packages (from matplotlib->catboost) (24.2)\r\n",
      "Requirement already satisfied: pillow>=8 in /Users/atzaytsev/Proj/Avito/wildfire-detection/.venv/lib/python3.9/site-packages (from matplotlib->catboost) (11.1.0)\r\n",
      "Requirement already satisfied: pyparsing>=2.3.1 in /Users/atzaytsev/Proj/Avito/wildfire-detection/.venv/lib/python3.9/site-packages (from matplotlib->catboost) (3.2.1)\r\n",
      "Requirement already satisfied: importlib-resources>=3.2.0 in /Users/atzaytsev/Proj/Avito/wildfire-detection/.venv/lib/python3.9/site-packages (from matplotlib->catboost) (6.5.2)\r\n",
      "Requirement already satisfied: narwhals>=1.15.1 in /Users/atzaytsev/Proj/Avito/wildfire-detection/.venv/lib/python3.9/site-packages (from plotly->catboost) (1.25.2)\r\n",
      "Requirement already satisfied: zipp>=3.1.0 in /Users/atzaytsev/Proj/Avito/wildfire-detection/.venv/lib/python3.9/site-packages (from importlib-resources>=3.2.0->matplotlib->catboost) (3.21.0)\r\n",
      "\u001B[33mWARNING: There was an error checking the latest version of pip.\u001B[0m\u001B[33m\r\n",
      "\u001B[0mRequirement already satisfied: optuna in /Users/atzaytsev/Proj/Avito/wildfire-detection/.venv/lib/python3.9/site-packages (4.2.0)\r\n",
      "Requirement already satisfied: alembic>=1.5.0 in /Users/atzaytsev/Proj/Avito/wildfire-detection/.venv/lib/python3.9/site-packages (from optuna) (1.14.1)\r\n",
      "Requirement already satisfied: colorlog in /Users/atzaytsev/Proj/Avito/wildfire-detection/.venv/lib/python3.9/site-packages (from optuna) (6.9.0)\r\n",
      "Requirement already satisfied: numpy in /Users/atzaytsev/Proj/Avito/wildfire-detection/.venv/lib/python3.9/site-packages (from optuna) (1.26.4)\r\n",
      "Requirement already satisfied: packaging>=20.0 in /Users/atzaytsev/Proj/Avito/wildfire-detection/.venv/lib/python3.9/site-packages (from optuna) (24.2)\r\n",
      "Requirement already satisfied: sqlalchemy>=1.4.2 in /Users/atzaytsev/Proj/Avito/wildfire-detection/.venv/lib/python3.9/site-packages (from optuna) (2.0.38)\r\n",
      "Requirement already satisfied: tqdm in /Users/atzaytsev/Proj/Avito/wildfire-detection/.venv/lib/python3.9/site-packages (from optuna) (4.67.1)\r\n",
      "Requirement already satisfied: PyYAML in /Users/atzaytsev/Proj/Avito/wildfire-detection/.venv/lib/python3.9/site-packages (from optuna) (6.0.2)\r\n",
      "Requirement already satisfied: Mako in /Users/atzaytsev/Proj/Avito/wildfire-detection/.venv/lib/python3.9/site-packages (from alembic>=1.5.0->optuna) (1.3.9)\r\n",
      "Requirement already satisfied: typing-extensions>=4 in /Users/atzaytsev/Proj/Avito/wildfire-detection/.venv/lib/python3.9/site-packages (from alembic>=1.5.0->optuna) (4.12.2)\r\n",
      "Requirement already satisfied: MarkupSafe>=0.9.2 in /Users/atzaytsev/Proj/Avito/wildfire-detection/.venv/lib/python3.9/site-packages (from Mako->alembic>=1.5.0->optuna) (3.0.2)\r\n",
      "\u001B[33mWARNING: There was an error checking the latest version of pip.\u001B[0m\u001B[33m\r\n",
      "\u001B[0mRequirement already satisfied: scikit-learn in /Users/atzaytsev/Proj/Avito/wildfire-detection/.venv/lib/python3.9/site-packages (1.6.1)\r\n",
      "Requirement already satisfied: numpy>=1.19.5 in /Users/atzaytsev/Proj/Avito/wildfire-detection/.venv/lib/python3.9/site-packages (from scikit-learn) (1.26.4)\r\n",
      "Requirement already satisfied: scipy>=1.6.0 in /Users/atzaytsev/Proj/Avito/wildfire-detection/.venv/lib/python3.9/site-packages (from scikit-learn) (1.13.1)\r\n",
      "Requirement already satisfied: joblib>=1.2.0 in /Users/atzaytsev/Proj/Avito/wildfire-detection/.venv/lib/python3.9/site-packages (from scikit-learn) (1.4.2)\r\n",
      "Requirement already satisfied: threadpoolctl>=3.1.0 in /Users/atzaytsev/Proj/Avito/wildfire-detection/.venv/lib/python3.9/site-packages (from scikit-learn) (3.5.0)\r\n",
      "\u001B[33mWARNING: There was an error checking the latest version of pip.\u001B[0m\u001B[33m\r\n",
      "\u001B[0m"
     ]
    }
   ],
   "execution_count": 37
  },
  {
   "metadata": {
    "ExecuteTime": {
     "end_time": "2025-02-08T11:23:10.286803Z",
     "start_time": "2025-02-08T11:23:10.284234Z"
    }
   },
   "cell_type": "code",
   "source": [
    "# Импорт библиотек\n",
    "import pandas as pd\n",
    "from sklearn.model_selection import train_test_split\n",
    "from sklearn.metrics import accuracy_score, f1_score, roc_auc_score, classification_report\n",
    "from sklearn.preprocessing import LabelEncoder\n",
    "from catboost import CatBoostClassifier\n",
    "import optuna"
   ],
   "outputs": [],
   "execution_count": 39
  },
  {
   "cell_type": "code",
   "metadata": {
    "colab": {
     "base_uri": "https://localhost:8080/",
     "height": 177
    },
    "id": "zdVDZ22xcFPq",
    "outputId": "3ef1999d-24ff-4a22-bbbf-b775d10a70c5",
    "ExecuteTime": {
     "end_time": "2025-02-08T11:23:12.548190Z",
     "start_time": "2025-02-08T11:23:12.542031Z"
    }
   },
   "source": [
    "# Загрузка файла\n",
    "# Чтение данных\n",
    "df = pd.read_csv('data/synthetic.csv')\n",
    "\n",
    "# Проверка\n",
    "print(df.head())"
   ],
   "outputs": [
    {
     "name": "stdout",
     "output_type": "stream",
     "text": [
      "   Unnamed: 0              NDVI,LST,BURNED_AREA,CLASS\n",
      "0           0  0.506782,14584.272727,4.692308,no_fire\n",
      "1           1        0.52215,14655.833333,5.0,no_fire\n",
      "2           2               0.682284,14780.0,5.0,fire\n",
      "3           3            0.120046,13298.5,3.5,no_fire\n",
      "4           4            0.568734,14743.0,5.0,no_fire\n"
     ]
    }
   ],
   "execution_count": 40
  },
  {
   "cell_type": "code",
   "metadata": {
    "colab": {
     "base_uri": "https://localhost:8080/"
    },
    "id": "BaPpozfPdVJL",
    "outputId": "e45f90d5-718f-46e8-980d-fd778156d52c",
    "ExecuteTime": {
     "end_time": "2025-02-08T11:23:14.412141Z",
     "start_time": "2025-02-08T11:23:14.397536Z"
    }
   },
   "source": [
    "# Подготовка данных\n",
    "df = df['NDVI,LST,BURNED_AREA,CLASS'].str.split(',', expand=True)\n",
    "df.columns = ['NDVI', 'LST', 'BURNED_AREA', 'CLASS']\n",
    "\n",
    "# Преобразование типов данных\n",
    "df['NDVI'] = df['NDVI'].astype(float)\n",
    "df['LST'] = df['LST'].astype(float)\n",
    "df['BURNED_AREA'] = df['BURNED_AREA'].astype(float)\n",
    "le = LabelEncoder()\n",
    "df['CLASS'] = le.fit_transform(df['CLASS'])  # 1 - fire, 0 - no_fire\n",
    "\n",
    "# Разделение данных\n",
    "X = df[['NDVI', 'LST', 'BURNED_AREA']]\n",
    "y = df['CLASS']\n",
    "X_train, X_test, y_train, y_test = train_test_split(X, y, test_size=0.2, random_state=42)\n"
   ],
   "outputs": [],
   "execution_count": 41
  },
  {
   "metadata": {
    "ExecuteTime": {
     "end_time": "2025-02-08T11:23:24.448923Z",
     "start_time": "2025-02-08T11:23:15.865374Z"
    }
   },
   "cell_type": "code",
   "source": [
    "# Функция для оптимизации гиперпараметров с Optuna\n",
    "def objective(trial):\n",
    "    params = {\n",
    "        'iterations': trial.suggest_int('iterations', 100, 1000),\n",
    "        'learning_rate': trial.suggest_float('learning_rate', 0.001, 0.3),\n",
    "        'depth': trial.suggest_int('depth', 4, 10),\n",
    "        'l2_leaf_reg': trial.suggest_float('l2_leaf_reg', 1e-3, 10.0),\n",
    "        'border_count': trial.suggest_int('border_count', 32, 255),\n",
    "        'random_strength': trial.suggest_float('random_strength', 1e-3, 10),\n",
    "        'bagging_temperature': trial.suggest_float('bagging_temperature', 0.0, 1.0),\n",
    "        'auto_class_weights': 'Balanced',\n",
    "        'verbose': False\n",
    "    }\n",
    "\n",
    "    model = CatBoostClassifier(**params)\n",
    "    model.fit(X_train, y_train, eval_set=(X_test, y_test), early_stopping_rounds=50)\n",
    "    preds = model.predict(X_test)\n",
    "    f1 = f1_score(y_test, preds)\n",
    "    return f1\n",
    "\n",
    "# Оптимизация гиперпараметров\n",
    "study = optuna.create_study(direction='maximize')\n",
    "study.optimize(objective, n_trials=50)"
   ],
   "outputs": [
    {
     "name": "stderr",
     "output_type": "stream",
     "text": [
      "[I 2025-02-08 16:23:15,869] A new study created in memory with name: no-name-4fef7c9a-4040-4154-935f-f73b1e269509\n",
      "[I 2025-02-08 16:23:16,015] Trial 0 finished with value: 0.8310679611650486 and parameters: {'iterations': 292, 'learning_rate': 0.21219992247461122, 'depth': 7, 'l2_leaf_reg': 1.1247756576421302, 'border_count': 176, 'random_strength': 9.091165388733742, 'bagging_temperature': 0.8216278974012712}. Best is trial 0 with value: 0.8310679611650486.\n",
      "[I 2025-02-08 16:23:16,274] Trial 1 finished with value: 0.8400770712909441 and parameters: {'iterations': 520, 'learning_rate': 0.05687263190758436, 'depth': 8, 'l2_leaf_reg': 4.172455035776009, 'border_count': 153, 'random_strength': 2.263037493627998, 'bagging_temperature': 0.6781283454623216}. Best is trial 1 with value: 0.8400770712909441.\n",
      "[I 2025-02-08 16:23:16,366] Trial 2 finished with value: 0.8477842003853564 and parameters: {'iterations': 739, 'learning_rate': 0.17795333438406982, 'depth': 6, 'l2_leaf_reg': 7.12997039323266, 'border_count': 146, 'random_strength': 2.335901419548448, 'bagging_temperature': 0.320405816362218}. Best is trial 2 with value: 0.8477842003853564.\n",
      "[I 2025-02-08 16:23:16,498] Trial 3 finished with value: 0.8533333333333334 and parameters: {'iterations': 138, 'learning_rate': 0.29124367366363985, 'depth': 10, 'l2_leaf_reg': 0.6232529365458387, 'border_count': 111, 'random_strength': 6.222442793754602, 'bagging_temperature': 0.5615699103289272}. Best is trial 3 with value: 0.8533333333333334.\n",
      "[I 2025-02-08 16:23:16,588] Trial 4 finished with value: 0.8271844660194175 and parameters: {'iterations': 951, 'learning_rate': 0.2366698087232811, 'depth': 5, 'l2_leaf_reg': 9.470709666354761, 'border_count': 184, 'random_strength': 5.860110648260246, 'bagging_temperature': 0.10492465510466908}. Best is trial 3 with value: 0.8533333333333334.\n",
      "[I 2025-02-08 16:23:16,728] Trial 5 finished with value: 0.8244575936883629 and parameters: {'iterations': 944, 'learning_rate': 0.07166846362556707, 'depth': 5, 'l2_leaf_reg': 6.745475309146747, 'border_count': 127, 'random_strength': 7.450175153812212, 'bagging_temperature': 0.5638426725633915}. Best is trial 3 with value: 0.8533333333333334.\n",
      "[I 2025-02-08 16:23:16,866] Trial 6 finished with value: 0.8352941176470589 and parameters: {'iterations': 308, 'learning_rate': 0.09877771196517136, 'depth': 6, 'l2_leaf_reg': 9.058536707033857, 'border_count': 155, 'random_strength': 6.028319518263669, 'bagging_temperature': 0.41990539564346074}. Best is trial 3 with value: 0.8533333333333334.\n",
      "[I 2025-02-08 16:23:17,093] Trial 7 finished with value: 0.857685009487666 and parameters: {'iterations': 489, 'learning_rate': 0.1048831811759048, 'depth': 9, 'l2_leaf_reg': 7.988659708387185, 'border_count': 103, 'random_strength': 3.097346004156903, 'bagging_temperature': 0.4141728386322737}. Best is trial 7 with value: 0.857685009487666.\n",
      "[I 2025-02-08 16:23:17,303] Trial 8 finished with value: 0.8256513026052105 and parameters: {'iterations': 366, 'learning_rate': 0.05584111966249679, 'depth': 4, 'l2_leaf_reg': 2.0726015441919436, 'border_count': 79, 'random_strength': 6.623091602090394, 'bagging_temperature': 0.7298830201754942}. Best is trial 7 with value: 0.857685009487666.\n",
      "[I 2025-02-08 16:23:17,404] Trial 9 finished with value: 0.8317214700193424 and parameters: {'iterations': 223, 'learning_rate': 0.10049865600114531, 'depth': 7, 'l2_leaf_reg': 1.441594217356101, 'border_count': 150, 'random_strength': 1.063658240495422, 'bagging_temperature': 0.6229980239707102}. Best is trial 7 with value: 0.857685009487666.\n",
      "[I 2025-02-08 16:23:19,173] Trial 10 finished with value: 0.851145038167939 and parameters: {'iterations': 590, 'learning_rate': 0.016974519744225397, 'depth': 10, 'l2_leaf_reg': 5.130042953162649, 'border_count': 239, 'random_strength': 3.830684134556527, 'bagging_temperature': 0.9787086138357866}. Best is trial 7 with value: 0.857685009487666.\n",
      "[I 2025-02-08 16:23:19,292] Trial 11 finished with value: 0.8516377649325626 and parameters: {'iterations': 143, 'learning_rate': 0.29366340453198586, 'depth': 10, 'l2_leaf_reg': 3.5869310532436662, 'border_count': 38, 'random_strength': 3.8634201935314794, 'bagging_temperature': 0.2616730165969086}. Best is trial 7 with value: 0.857685009487666.\n",
      "[I 2025-02-08 16:23:19,420] Trial 12 finished with value: 0.8181818181818182 and parameters: {'iterations': 500, 'learning_rate': 0.15026693469392793, 'depth': 9, 'l2_leaf_reg': 0.14635140226836096, 'border_count': 96, 'random_strength': 4.279345545116588, 'bagging_temperature': 0.43796389025063787}. Best is trial 7 with value: 0.857685009487666.\n",
      "[I 2025-02-08 16:23:19,529] Trial 13 finished with value: 0.8631178707224335 and parameters: {'iterations': 647, 'learning_rate': 0.29295914082948915, 'depth': 9, 'l2_leaf_reg': 7.32124754309399, 'border_count': 90, 'random_strength': 0.06005764242275635, 'bagging_temperature': 0.016086626186362474}. Best is trial 13 with value: 0.8631178707224335.\n",
      "[I 2025-02-08 16:23:19,632] Trial 14 finished with value: 0.85 and parameters: {'iterations': 712, 'learning_rate': 0.1447745569516319, 'depth': 8, 'l2_leaf_reg': 7.708424169167233, 'border_count': 60, 'random_strength': 0.023365344372279218, 'bagging_temperature': 0.06417380028145682}. Best is trial 13 with value: 0.8631178707224335.\n",
      "[I 2025-02-08 16:23:19,782] Trial 15 finished with value: 0.8631178707224335 and parameters: {'iterations': 688, 'learning_rate': 0.24183187666513772, 'depth': 9, 'l2_leaf_reg': 5.923583079808326, 'border_count': 74, 'random_strength': 2.2735574796898534, 'bagging_temperature': 0.1888555772807699}. Best is trial 13 with value: 0.8631178707224335.\n",
      "[I 2025-02-08 16:23:19,866] Trial 16 finished with value: 0.8212180746561886 and parameters: {'iterations': 779, 'learning_rate': 0.24932728934509824, 'depth': 9, 'l2_leaf_reg': 5.74197882427742, 'border_count': 32, 'random_strength': 0.7543419344077822, 'bagging_temperature': 0.1838545506859523}. Best is trial 13 with value: 0.8631178707224335.\n",
      "[I 2025-02-08 16:23:19,958] Trial 17 finished with value: 0.8516377649325626 and parameters: {'iterations': 628, 'learning_rate': 0.26701927538667336, 'depth': 8, 'l2_leaf_reg': 5.788461639805757, 'border_count': 64, 'random_strength': 1.8589649673896576, 'bagging_temperature': 0.0344484968598161}. Best is trial 13 with value: 0.8631178707224335.\n",
      "[I 2025-02-08 16:23:20,072] Trial 18 finished with value: 0.8244575936883629 and parameters: {'iterations': 842, 'learning_rate': 0.19318922708953848, 'depth': 9, 'l2_leaf_reg': 3.2624076103197694, 'border_count': 79, 'random_strength': 1.103751275905019, 'bagging_temperature': 0.18559903141617867}. Best is trial 13 with value: 0.8631178707224335.\n",
      "[I 2025-02-08 16:23:20,223] Trial 19 finished with value: 0.8544061302681992 and parameters: {'iterations': 663, 'learning_rate': 0.23075994928763216, 'depth': 8, 'l2_leaf_reg': 8.386860910098694, 'border_count': 243, 'random_strength': 3.124109718701385, 'bagging_temperature': 0.01906603359978265}. Best is trial 13 with value: 0.8631178707224335.\n",
      "[I 2025-02-08 16:23:20,378] Trial 20 finished with value: 0.8362235067437379 and parameters: {'iterations': 858, 'learning_rate': 0.2620074525182849, 'depth': 10, 'l2_leaf_reg': 6.699773762658804, 'border_count': 123, 'random_strength': 0.07530001641321896, 'bagging_temperature': 0.16778606102141042}. Best is trial 13 with value: 0.8631178707224335.\n",
      "[I 2025-02-08 16:23:20,602] Trial 21 finished with value: 0.8598848368522073 and parameters: {'iterations': 427, 'learning_rate': 0.13313721738438122, 'depth': 9, 'l2_leaf_reg': 8.08511936305941, 'border_count': 97, 'random_strength': 2.8115042532640606, 'bagging_temperature': 0.34442514961974735}. Best is trial 13 with value: 0.8631178707224335.\n",
      "[I 2025-02-08 16:23:20,783] Trial 22 finished with value: 0.8488372093023255 and parameters: {'iterations': 422, 'learning_rate': 0.17087127610900413, 'depth': 9, 'l2_leaf_reg': 8.6294269719224, 'border_count': 87, 'random_strength': 4.8553362789820875, 'bagging_temperature': 0.2944574992870949}. Best is trial 13 with value: 0.8631178707224335.\n",
      "[I 2025-02-08 16:23:20,934] Trial 23 finished with value: 0.8287937743190662 and parameters: {'iterations': 566, 'learning_rate': 0.13399748389583538, 'depth': 8, 'l2_leaf_reg': 9.981367734850965, 'border_count': 56, 'random_strength': 1.7283118779626174, 'bagging_temperature': 0.3390798517998087}. Best is trial 13 with value: 0.8631178707224335.\n",
      "[I 2025-02-08 16:23:21,158] Trial 24 finished with value: 0.8538899430740038 and parameters: {'iterations': 428, 'learning_rate': 0.1996035182106744, 'depth': 9, 'l2_leaf_reg': 6.137659409104062, 'border_count': 122, 'random_strength': 3.141879642076105, 'bagging_temperature': 0.1374395021163796}. Best is trial 13 with value: 0.8631178707224335.\n",
      "[I 2025-02-08 16:23:21,401] Trial 25 finished with value: 0.8652751423149905 and parameters: {'iterations': 683, 'learning_rate': 0.2773930467218317, 'depth': 10, 'l2_leaf_reg': 7.350744245661129, 'border_count': 70, 'random_strength': 1.34580324092457, 'bagging_temperature': 0.20139530919049864}. Best is trial 25 with value: 0.8652751423149905.\n",
      "[I 2025-02-08 16:23:21,584] Trial 26 finished with value: 0.8460038986354775 and parameters: {'iterations': 672, 'learning_rate': 0.2755764016233065, 'depth': 10, 'l2_leaf_reg': 4.766038941119555, 'border_count': 51, 'random_strength': 0.8389188931018159, 'bagging_temperature': 0.24034151600062145}. Best is trial 25 with value: 0.8652751423149905.\n",
      "[I 2025-02-08 16:23:21,713] Trial 27 finished with value: 0.8127490039840638 and parameters: {'iterations': 807, 'learning_rate': 0.2247370746710048, 'depth': 10, 'l2_leaf_reg': 7.371201719727146, 'border_count': 74, 'random_strength': 1.2865109624758453, 'bagging_temperature': 0.010358840878786912}. Best is trial 25 with value: 0.8652751423149905.\n",
      "[I 2025-02-08 16:23:21,786] Trial 28 finished with value: 0.8352941176470589 and parameters: {'iterations': 885, 'learning_rate': 0.2968698679908164, 'depth': 7, 'l2_leaf_reg': 6.483616712424478, 'border_count': 48, 'random_strength': 0.03801502984154376, 'bagging_temperature': 0.10349616334407524}. Best is trial 25 with value: 0.8652751423149905.\n",
      "[I 2025-02-08 16:23:21,888] Trial 29 finished with value: 0.8174603174603174 and parameters: {'iterations': 736, 'learning_rate': 0.24552551699489297, 'depth': 8, 'l2_leaf_reg': 5.265578807235446, 'border_count': 175, 'random_strength': 7.8523406672394, 'bagging_temperature': 0.23882676290799335}. Best is trial 25 with value: 0.8652751423149905.\n",
      "[I 2025-02-08 16:23:22,027] Trial 30 finished with value: 0.8404669260700389 and parameters: {'iterations': 609, 'learning_rate': 0.27621122804785375, 'depth': 10, 'l2_leaf_reg': 4.421436051246054, 'border_count': 74, 'random_strength': 1.8955495375209757, 'bagging_temperature': 0.08812617114473736}. Best is trial 25 with value: 0.8652751423149905.\n",
      "[I 2025-02-08 16:23:22,169] Trial 31 finished with value: 0.8228346456692913 and parameters: {'iterations': 663, 'learning_rate': 0.21436170198253646, 'depth': 9, 'l2_leaf_reg': 8.042226233666515, 'border_count': 93, 'random_strength': 9.85664570241968, 'bagging_temperature': 0.36863081296821626}. Best is trial 25 with value: 0.8652751423149905.\n",
      "[I 2025-02-08 16:23:22,354] Trial 32 finished with value: 0.8214285714285714 and parameters: {'iterations': 454, 'learning_rate': 0.12116643355631034, 'depth': 9, 'l2_leaf_reg': 7.268608550439684, 'border_count': 111, 'random_strength': 2.5999640316798693, 'bagging_temperature': 0.22684248416864894}. Best is trial 25 with value: 0.8652751423149905.\n",
      "[I 2025-02-08 16:23:22,474] Trial 33 finished with value: 0.8313725490196079 and parameters: {'iterations': 531, 'learning_rate': 0.17002478609749375, 'depth': 8, 'l2_leaf_reg': 8.654264659345056, 'border_count': 68, 'random_strength': 2.4937444995314513, 'bagging_temperature': 0.5132626173149707}. Best is trial 25 with value: 0.8652751423149905.\n",
      "[I 2025-02-08 16:23:22,674] Trial 34 finished with value: 0.8759398496240601 and parameters: {'iterations': 360, 'learning_rate': 0.24973794221051698, 'depth': 10, 'l2_leaf_reg': 7.103598637717152, 'border_count': 106, 'random_strength': 0.5730382213005942, 'bagging_temperature': 0.29882177303032703}. Best is trial 34 with value: 0.8759398496240601.\n",
      "[I 2025-02-08 16:23:22,852] Trial 35 finished with value: 0.84765625 and parameters: {'iterations': 705, 'learning_rate': 0.2547234646491544, 'depth': 10, 'l2_leaf_reg': 6.992809436389068, 'border_count': 135, 'random_strength': 0.3980807608896012, 'bagging_temperature': 0.13678391034603027}. Best is trial 34 with value: 0.8759398496240601.\n",
      "[I 2025-02-08 16:23:23,010] Trial 36 finished with value: 0.8365758754863813 and parameters: {'iterations': 786, 'learning_rate': 0.28275407765758054, 'depth': 10, 'l2_leaf_reg': 5.945069717721113, 'border_count': 108, 'random_strength': 1.484274590542455, 'bagging_temperature': 0.29340865487208173}. Best is trial 34 with value: 0.8759398496240601.\n",
      "[I 2025-02-08 16:23:23,166] Trial 37 finished with value: 0.8382066276803118 and parameters: {'iterations': 335, 'learning_rate': 0.21207650629446712, 'depth': 10, 'l2_leaf_reg': 6.453545918938142, 'border_count': 88, 'random_strength': 0.5156496963816033, 'bagging_temperature': 0.07370584689746495}. Best is trial 34 with value: 0.8759398496240601.\n",
      "[I 2025-02-08 16:23:23,315] Trial 38 finished with value: 0.8297455968688845 and parameters: {'iterations': 996, 'learning_rate': 0.23879154169429445, 'depth': 9, 'l2_leaf_reg': 7.555406381826983, 'border_count': 163, 'random_strength': 2.105533277182684, 'bagging_temperature': 0.19370487076429077}. Best is trial 34 with value: 0.8759398496240601.\n",
      "[I 2025-02-08 16:23:23,441] Trial 39 finished with value: 0.8647619047619047 and parameters: {'iterations': 231, 'learning_rate': 0.2631913477850714, 'depth': 6, 'l2_leaf_reg': 9.515040752774953, 'border_count': 217, 'random_strength': 1.3892458848799638, 'bagging_temperature': 0.136573604616641}. Best is trial 34 with value: 0.8759398496240601.\n",
      "[I 2025-02-08 16:23:23,548] Trial 40 finished with value: 0.8549618320610687 and parameters: {'iterations': 183, 'learning_rate': 0.29942575859988346, 'depth': 6, 'l2_leaf_reg': 9.186869878691976, 'border_count': 200, 'random_strength': 1.487125105516138, 'bagging_temperature': 0.12802167478206117}. Best is trial 34 with value: 0.8759398496240601.\n",
      "[I 2025-02-08 16:23:23,663] Trial 41 finished with value: 0.8477842003853564 and parameters: {'iterations': 225, 'learning_rate': 0.2638799310791208, 'depth': 5, 'l2_leaf_reg': 9.473845019059095, 'border_count': 222, 'random_strength': 0.716812007797238, 'bagging_temperature': 0.055226018988713876}. Best is trial 34 with value: 0.8759398496240601.\n",
      "[I 2025-02-08 16:23:23,745] Trial 42 finished with value: 0.83984375 and parameters: {'iterations': 269, 'learning_rate': 0.2792487515132645, 'depth': 6, 'l2_leaf_reg': 5.496978454100673, 'border_count': 115, 'random_strength': 1.1898214635479183, 'bagging_temperature': 0.1565560986201068}. Best is trial 34 with value: 0.8759398496240601.\n",
      "[I 2025-02-08 16:23:23,850] Trial 43 finished with value: 0.8482490272373541 and parameters: {'iterations': 351, 'learning_rate': 0.2536012231236127, 'depth': 7, 'l2_leaf_reg': 6.974599490249855, 'border_count': 199, 'random_strength': 2.160537824060511, 'bagging_temperature': 0.20868598401533991}. Best is trial 34 with value: 0.8759398496240601.\n",
      "[I 2025-02-08 16:23:23,917] Trial 44 finished with value: 0.8151093439363817 and parameters: {'iterations': 266, 'learning_rate': 0.22299749578444847, 'depth': 6, 'l2_leaf_reg': 9.830728978801176, 'border_count': 82, 'random_strength': 0.4606430155827416, 'bagging_temperature': 0.3885075494348252}. Best is trial 34 with value: 0.8759398496240601.\n",
      "[I 2025-02-08 16:23:23,979] Trial 45 finished with value: 0.8126232741617357 and parameters: {'iterations': 112, 'learning_rate': 0.28595211277390686, 'depth': 5, 'l2_leaf_reg': 3.7528757629810365, 'border_count': 131, 'random_strength': 5.336654541697684, 'bagging_temperature': 0.48255748093489836}. Best is trial 34 with value: 0.8759398496240601.\n",
      "[I 2025-02-08 16:23:24,077] Trial 46 finished with value: 0.8330058939096268 and parameters: {'iterations': 573, 'learning_rate': 0.26546653404371157, 'depth': 4, 'l2_leaf_reg': 8.987157175324015, 'border_count': 230, 'random_strength': 3.499807142499897, 'bagging_temperature': 0.2797092327800693}. Best is trial 34 with value: 0.8759398496240601.\n",
      "[I 2025-02-08 16:23:24,270] Trial 47 finished with value: 0.8230616302186878 and parameters: {'iterations': 378, 'learning_rate': 0.2344601262871821, 'depth': 10, 'l2_leaf_reg': 7.749302774935283, 'border_count': 143, 'random_strength': 0.9538265928960288, 'bagging_temperature': 0.8300668937404219}. Best is trial 34 with value: 0.8759398496240601.\n",
      "[I 2025-02-08 16:23:24,374] Trial 48 finished with value: 0.8467432950191571 and parameters: {'iterations': 751, 'learning_rate': 0.19610457055674385, 'depth': 7, 'l2_leaf_reg': 2.704164597565218, 'border_count': 98, 'random_strength': 1.7066075649543972, 'bagging_temperature': 0.10739452436262042}. Best is trial 34 with value: 0.8759398496240601.\n",
      "[I 2025-02-08 16:23:24,446] Trial 49 finished with value: 0.8336594911937377 and parameters: {'iterations': 630, 'learning_rate': 0.24516798692988792, 'depth': 5, 'l2_leaf_reg': 4.898710390152555, 'border_count': 40, 'random_strength': 0.4781232540770157, 'bagging_temperature': 0.00816509219040573}. Best is trial 34 with value: 0.8759398496240601.\n"
     ]
    }
   ],
   "execution_count": 42
  },
  {
   "metadata": {
    "ExecuteTime": {
     "end_time": "2025-02-08T11:24:47.152356Z",
     "start_time": "2025-02-08T11:24:46.106783Z"
    }
   },
   "cell_type": "code",
   "source": [
    "# Обучение модели с лучшими параметрами и оценка\n",
    "best_params = study.best_params\n",
    "best_params['auto_class_weights'] = 'Balanced'\n",
    "best_model = CatBoostClassifier(**best_params, verbose=False)\n",
    "best_model.fit(X_train, y_train)\n",
    "\n",
    "# Оценка модели\n",
    "test_preds = best_model.predict(X_test)\n",
    "print(classification_report(y_test, test_preds))\n",
    "print(f\"ROC-AUC: {roc_auc_score(y_test, best_model.predict_proba(X_test)[:, 1])}\")"
   ],
   "outputs": [
    {
     "name": "stdout",
     "output_type": "stream",
     "text": [
      "              precision    recall  f1-score   support\n",
      "\n",
      "           0       0.58      0.56      0.57        68\n",
      "           1       0.89      0.90      0.90       275\n",
      "\n",
      "    accuracy                           0.83       343\n",
      "   macro avg       0.74      0.73      0.73       343\n",
      "weighted avg       0.83      0.83      0.83       343\n",
      "\n",
      "ROC-AUC: 0.8081550802139038\n"
     ]
    }
   ],
   "execution_count": 46
  },
  {
   "metadata": {
    "ExecuteTime": {
     "end_time": "2025-02-08T12:47:22.928466Z",
     "start_time": "2025-02-08T12:47:22.910748Z"
    }
   },
   "cell_type": "code",
   "source": [
    "# Важность признаков\n",
    "feature_importances = best_model.get_feature_importance()\n",
    "for name, importance in zip(X.columns, feature_importances):\n",
    "    print(f\"{name}: {importance:.2f}%\")"
   ],
   "outputs": [
    {
     "name": "stdout",
     "output_type": "stream",
     "text": [
      "\n",
      "Важность признаков:\n",
      "       feature  importance\n",
      "0         NDVI   36.158279\n",
      "1          LST   34.879567\n",
      "2  BURNED_AREA   28.962154\n"
     ]
    }
   ],
   "execution_count": 50
  },
  {
   "metadata": {},
   "cell_type": "markdown",
   "source": [
    "Значение Roc Auc - 0.80+ означает. Модель хорошо разделяет классы, но не идеально.\n",
    "\n",
    "Выводы\n",
    "1. Класс 1 предсказывается значительно лучше, чем 0.\n",
    "2. Модель в целом работает хорошо (accuracy = 83%), но баланс классов можно улучшить.\n",
    "\n",
    "Для класса 0 (нет пожара) низкие precision и recall, возможно, стоит рассмотреть:\n",
    "- Использование взвешивания классов (class_weight='balanced').\n",
    "- Добавление больше данных для класса 0.\n",
    "- Улучшение модели, например, за счет оптимизации порога классификации."
   ]
  }
 ],
 "metadata": {
  "colab": {
   "provenance": []
  },
  "kernelspec": {
   "display_name": "Python 3 (ipykernel)",
   "language": "python",
   "name": "python3"
  },
  "language_info": {
   "codemirror_mode": {
    "name": "ipython",
    "version": 3
   },
   "file_extension": ".py",
   "mimetype": "text/x-python",
   "name": "python",
   "nbconvert_exporter": "python",
   "pygments_lexer": "ipython3",
   "version": "3.9.6"
  }
 },
 "nbformat": 4,
 "nbformat_minor": 4
}
